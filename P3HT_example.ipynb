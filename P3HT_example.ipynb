{
 "cells": [
  {
   "cell_type": "markdown",
   "metadata": {},
   "source": [
    "### Environment setup\n",
    "```\n",
    "conda create -y -n antefoyer -c conda-forge -c mosdef -c omnia -c ambermd ambertools numpy mbuild jupyterlab hoomd openbabel py3Dmol openmm networkx lark-parser lxml requests 'foyer=0.7.3'\n",
    "git clone git@github.com:rsdefever/GAFF-foyer.git\n",
    "cd GAFF-foyer\n",
    "pip install .\n",
    "git clone git@github.com:rsdefever/antefoyer\n",
    "cd antefoyer\n",
    "pip install .\n",
    "```"
   ]
  },
  {
   "cell_type": "code",
   "execution_count": 2,
   "metadata": {},
   "outputs": [
    {
     "name": "stderr",
     "output_type": "stream",
     "text": [
      "/Users/jenny/miniconda3/envs/antefoyer-test/lib/python3.7/site-packages/hoomd/meta.py:26: DeprecationWarning: Using or importing the ABCs from 'collections' instead of from 'collections.abc' is deprecated since Python 3.3,and in 3.9 it will stop working\n",
      "  from collections import Mapping\n"
     ]
    }
   ],
   "source": [
    "import foyer\n",
    "import mbuild as mb\n",
    "import parmed as pmd\n",
    "import hoomd\n",
    "import numpy as np"
   ]
  },
  {
   "cell_type": "code",
   "execution_count": 3,
   "metadata": {},
   "outputs": [
    {
     "name": "stderr",
     "output_type": "stream",
     "text": [
      "/Users/jenny/miniconda3/envs/antefoyer-test/lib/python3.7/site-packages/openbabel/__init__.py:14: UserWarning: \"import openbabel\" is deprecated, instead use \"from openbabel import openbabel\"\n",
      "  warnings.warn('\"import openbabel\" is deprecated, instead use \"from openbabel import openbabel\"')\n",
      "/Users/jenny/miniconda3/envs/antefoyer-test/lib/python3.7/site-packages/mbuild/compound.py:2749: UserWarning: No unitcell detected for pybel.Molecule c1cscc1CCCCCC\t\n",
      "\n",
      "  warn(\"No unitcell detected for pybel.Molecule {}\".format(pybel_mol))\n"
     ]
    }
   ],
   "source": [
    "smiles = 'c1cscc1CCCCCC'\n",
    "#smiles = 'c1ccccc1'\n",
    "compound = mb.load(smiles, smiles = True)\n",
    "\n",
    "pmd_molecule = compound.to_parmed()\n",
    "#compound.visualize()"
   ]
  },
  {
   "cell_type": "code",
   "execution_count": null,
   "metadata": {},
   "outputs": [],
   "source": [
    "oplsaa = foyer.forcefields.load_OPLSAA()\n",
    "typed_oplsaa = oplsaa.apply(pmd_molecule)"
   ]
  },
  {
   "cell_type": "code",
   "execution_count": 5,
   "metadata": {},
   "outputs": [],
   "source": [
    "# Load GAFF\n",
    "GAFF = foyer.forcefields.load_GAFF()\n",
    "\n",
    "# Use foyer to parameterize\n",
    "parameterized_molecule = GAFF.apply(pmd_molecule, assert_dihedral_params=False)"
   ]
  },
  {
   "cell_type": "code",
   "execution_count": 6,
   "metadata": {},
   "outputs": [],
   "source": [
    "import antefoyer"
   ]
  },
  {
   "cell_type": "code",
   "execution_count": 8,
   "metadata": {},
   "outputs": [],
   "source": [
    "# Load GAFF\n",
    "# I also tried installing GAFF-foyer\n",
    "# The way below will work but gives\n",
    "# `ValueError: Could not find force field with name gaff in path`\n",
    "#import gafffoyer\n",
    "#GAFF = gafffoyer.gafffoyer.load_GAFF()\n",
    "\n",
    "GAFF = foyer.forcefields.load_GAFF()\n",
    "\n",
    "# Identify GAFF atomtypes with antechamber\n",
    "typed_molecule = antefoyer.ante_atomtyping(compound,'gaff')\n",
    "\n",
    "# Use foyer to parameterize\n",
    "parameterized_molecule = GAFF.apply(typed_molecule, run_atomtyping=False, assert_dihedral_params=False)\n",
    "\n",
    "# We can also apply AM1-BCC charges from antechamber\n",
    "molecule_with_charges = antefoyer.ante_charges(parameterized_molecule,'bcc')\n",
    "\n",
    "# Save to whatever file format you desire"
   ]
  },
  {
   "cell_type": "code",
   "execution_count": 8,
   "metadata": {},
   "outputs": [
    {
     "name": "stdout",
     "output_type": "stream",
     "text": [
      "0.7.3\n"
     ]
    }
   ],
   "source": [
    "print(foyer.version)"
   ]
  },
  {
   "cell_type": "code",
   "execution_count": null,
   "metadata": {},
   "outputs": [],
   "source": []
  }
 ],
 "metadata": {
  "kernelspec": {
   "display_name": "Python 3",
   "language": "python",
   "name": "python3"
  },
  "language_info": {
   "codemirror_mode": {
    "name": "ipython",
    "version": 3
   },
   "file_extension": ".py",
   "mimetype": "text/x-python",
   "name": "python",
   "nbconvert_exporter": "python",
   "pygments_lexer": "ipython3",
   "version": "3.7.6"
  }
 },
 "nbformat": 4,
 "nbformat_minor": 4
}
