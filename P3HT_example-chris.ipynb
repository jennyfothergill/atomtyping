{
 "cells": [
  {
   "cell_type": "markdown",
   "metadata": {},
   "source": [
    "### Simulation Example\n"
   ]
  },
  {
   "cell_type": "code",
   "execution_count": 1,
   "metadata": {},
   "outputs": [],
   "source": [
    "import foyer\n",
    "import mbuild as mb\n",
    "import parmed as pmd\n",
    "#import hoomd\n",
    "import numpy as np\n",
    "import antefoyer"
   ]
  },
  {
   "cell_type": "code",
   "execution_count": 2,
   "metadata": {},
   "outputs": [
    {
     "name": "stderr",
     "output_type": "stream",
     "text": [
      "/Users/Jenny/miniconda/envs/antefoyer_chris/lib/python3.7/site-packages/openbabel/__init__.py:14: UserWarning: \"import openbabel\" is deprecated, instead use \"from openbabel import openbabel\"\n",
      "  warnings.warn('\"import openbabel\" is deprecated, instead use \"from openbabel import openbabel\"')\n",
      "/Users/Jenny/miniconda/envs/antefoyer_chris/lib/python3.7/site-packages/mbuild/compound.py:2749: UserWarning: No unitcell detected for pybel.Molecule c1cscc1CCCCCC\t\n",
      "\n",
      "  warn(\"No unitcell detected for pybel.Molecule {}\".format(pybel_mol))\n"
     ]
    }
   ],
   "source": [
    "smiles = 'c1cscc1CCCCCC'\n",
    "compound = mb.load(smiles, smiles = True)\n",
    "pmd_molecule = compound.to_parmed()"
   ]
  },
  {
   "cell_type": "code",
   "execution_count": 3,
   "metadata": {},
   "outputs": [
    {
     "ename": "AttributeError",
     "evalue": "module 'foyer.forcefields.forcefields' has no attribute 'load_GAFF'",
     "output_type": "error",
     "traceback": [
      "\u001b[0;31m---------------------------------------------------------------------------\u001b[0m",
      "\u001b[0;31mAttributeError\u001b[0m                            Traceback (most recent call last)",
      "\u001b[0;32m<ipython-input-3-fbce3dd7bcf6>\u001b[0m in \u001b[0;36m<module>\u001b[0;34m\u001b[0m\n\u001b[1;32m      1\u001b[0m \u001b[0;31m# Load GAFF\u001b[0m\u001b[0;34m\u001b[0m\u001b[0;34m\u001b[0m\u001b[0;34m\u001b[0m\u001b[0m\n\u001b[0;32m----> 2\u001b[0;31m \u001b[0mGAFF\u001b[0m \u001b[0;34m=\u001b[0m \u001b[0mfoyer\u001b[0m\u001b[0;34m.\u001b[0m\u001b[0mforcefields\u001b[0m\u001b[0;34m.\u001b[0m\u001b[0mload_GAFF\u001b[0m\u001b[0;34m(\u001b[0m\u001b[0;34m)\u001b[0m\u001b[0;34m\u001b[0m\u001b[0;34m\u001b[0m\u001b[0m\n\u001b[0m\u001b[1;32m      3\u001b[0m \u001b[0;34m\u001b[0m\u001b[0m\n\u001b[1;32m      4\u001b[0m \u001b[0;31m# Use foyer to parameterize\u001b[0m\u001b[0;34m\u001b[0m\u001b[0;34m\u001b[0m\u001b[0;34m\u001b[0m\u001b[0m\n\u001b[1;32m      5\u001b[0m \u001b[0mparmaeterized_molecule\u001b[0m \u001b[0;34m=\u001b[0m \u001b[0mGAFF\u001b[0m\u001b[0;34m.\u001b[0m\u001b[0mapply\u001b[0m\u001b[0;34m(\u001b[0m\u001b[0mpmd_molecule\u001b[0m\u001b[0;34m,\u001b[0m \u001b[0massert_dihedral_params\u001b[0m\u001b[0;34m=\u001b[0m\u001b[0;32mFalse\u001b[0m\u001b[0;34m)\u001b[0m\u001b[0;34m\u001b[0m\u001b[0;34m\u001b[0m\u001b[0m\n",
      "\u001b[0;31mAttributeError\u001b[0m: module 'foyer.forcefields.forcefields' has no attribute 'load_GAFF'"
     ]
    }
   ],
   "source": [
    "# Load GAFF\n",
    "GAFF = foyer.forcefields.load_GAFF()\n",
    "\n",
    "# Use foyer to parameterize\n",
    "parmaeterized_molecule = GAFF.apply(pmd_molecule, assert_dihedral_params=False)"
   ]
  },
  {
   "cell_type": "code",
   "execution_count": null,
   "metadata": {},
   "outputs": [],
   "source": []
  },
  {
   "cell_type": "code",
   "execution_count": null,
   "metadata": {},
   "outputs": [],
   "source": []
  },
  {
   "cell_type": "code",
   "execution_count": null,
   "metadata": {},
   "outputs": [],
   "source": []
  },
  {
   "cell_type": "code",
   "execution_count": 4,
   "metadata": {},
   "outputs": [
    {
     "ename": "AttributeError",
     "evalue": "module 'foyer.forcefields.forcefields' has no attribute 'load_GAFF'",
     "output_type": "error",
     "traceback": [
      "\u001b[0;31m---------------------------------------------------------------------------\u001b[0m",
      "\u001b[0;31mAttributeError\u001b[0m                            Traceback (most recent call last)",
      "\u001b[0;32m<ipython-input-4-e4b2ea88bd27>\u001b[0m in \u001b[0;36m<module>\u001b[0;34m\u001b[0m\n\u001b[1;32m      1\u001b[0m \u001b[0;31m# Load GAFF\u001b[0m\u001b[0;34m\u001b[0m\u001b[0;34m\u001b[0m\u001b[0;34m\u001b[0m\u001b[0m\n\u001b[0;32m----> 2\u001b[0;31m \u001b[0mGAFF\u001b[0m \u001b[0;34m=\u001b[0m \u001b[0mfoyer\u001b[0m\u001b[0;34m.\u001b[0m\u001b[0mforcefields\u001b[0m\u001b[0;34m.\u001b[0m\u001b[0mload_GAFF\u001b[0m\u001b[0;34m(\u001b[0m\u001b[0;34m)\u001b[0m\u001b[0;34m\u001b[0m\u001b[0;34m\u001b[0m\u001b[0m\n\u001b[0m\u001b[1;32m      3\u001b[0m \u001b[0;34m\u001b[0m\u001b[0m\n\u001b[1;32m      4\u001b[0m \u001b[0;31m# Identify GAFF atomtypes with antechamber\u001b[0m\u001b[0;34m\u001b[0m\u001b[0;34m\u001b[0m\u001b[0;34m\u001b[0m\u001b[0m\n\u001b[1;32m      5\u001b[0m \u001b[0mtyped_molecule\u001b[0m \u001b[0;34m=\u001b[0m \u001b[0mantefoyer\u001b[0m\u001b[0;34m.\u001b[0m\u001b[0mante_atomtyping\u001b[0m\u001b[0;34m(\u001b[0m\u001b[0mcomp_mb\u001b[0m\u001b[0;34m,\u001b[0m\u001b[0;34m'gaff'\u001b[0m\u001b[0;34m)\u001b[0m\u001b[0;34m\u001b[0m\u001b[0;34m\u001b[0m\u001b[0m\n",
      "\u001b[0;31mAttributeError\u001b[0m: module 'foyer.forcefields.forcefields' has no attribute 'load_GAFF'"
     ]
    }
   ],
   "source": [
    "# Load GAFF\n",
    "GAFF = foyer.forcefields.load_GAFF()\n",
    "\n",
    "# Identify GAFF atomtypes with antechamber\n",
    "typed_molecule = antefoyer.ante_atomtyping(comp_mb,'gaff')\n",
    "\n",
    "# Use foyer to parameterize\n",
    "parameterized_molecule = GAFF.apply(typed_molecule, run_atomtyping=False)\n",
    "\n",
    "# We can also apply AM1-BCC charges from antechamber\n",
    "molecule_with_charges = antefoyer.ante_charges(parameterized_molecule,'bcc')\n",
    "\n",
    "# Save to whatever file format you desire"
   ]
  },
  {
   "cell_type": "code",
   "execution_count": null,
   "metadata": {},
   "outputs": [],
   "source": []
  },
  {
   "cell_type": "code",
   "execution_count": null,
   "metadata": {},
   "outputs": [],
   "source": []
  },
  {
   "cell_type": "code",
   "execution_count": null,
   "metadata": {},
   "outputs": [],
   "source": []
  }
 ],
 "metadata": {
  "kernelspec": {
   "display_name": "Python 3",
   "language": "python",
   "name": "python3"
  },
  "language_info": {
   "codemirror_mode": {
    "name": "ipython",
    "version": 3
   },
   "file_extension": ".py",
   "mimetype": "text/x-python",
   "name": "python",
   "nbconvert_exporter": "python",
   "pygments_lexer": "ipython3",
   "version": "3.7.6"
  }
 },
 "nbformat": 4,
 "nbformat_minor": 4
}
